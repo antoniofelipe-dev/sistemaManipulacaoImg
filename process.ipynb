{
 "cells": [
  {
   "cell_type": "markdown",
   "metadata": {},
   "source": [
    "#    Leitura e Exibição de Imagens"
   ]
  },
  {
   "cell_type": "code",
   "execution_count": 3,
   "metadata": {},
   "outputs": [],
   "source": [
    "# Importando libs utilizadas \n",
    "import cv2\n",
    "import matplotlib.pyplot as plt\n",
    "import numpy as np\n"
   ]
  },
  {
   "cell_type": "code",
   "execution_count": null,
   "metadata": {},
   "outputs": [],
   "source": [
    "\n",
    "# Carregar imagem\n",
    "image = cv2.imread('./assets/lula.png')\n",
    "\n",
    "# Exibir imagem\n",
    "\n",
    "plt.imshow(cv2.cvtColor(image, cv2.COLOR_BGR2RGB))\n",
    "plt.axis('off')  # Remover eixos\n",
    "plt.show()\n"
   ]
  },
  {
   "cell_type": "markdown",
   "metadata": {},
   "source": [
    "# Pré-Processamento\n"
   ]
  },
  {
   "cell_type": "markdown",
   "metadata": {},
   "source": [
    "### Conversão para grayscale:"
   ]
  },
  {
   "cell_type": "code",
   "execution_count": null,
   "metadata": {},
   "outputs": [],
   "source": [
    "gray_image = cv2.cvtColor(image, cv2.COLOR_BGR2GRAY)\n",
    "\n",
    "plt.imshow(gray_image)\n",
    "plt.axis('off')  # Remover eixos\n",
    "plt.show()\n",
    "\n"
   ]
  },
  {
   "cell_type": "markdown",
   "metadata": {},
   "source": [
    "### Redimensionar:\n"
   ]
  },
  {
   "cell_type": "code",
   "execution_count": null,
   "metadata": {},
   "outputs": [],
   "source": [
    "image = cv2.imread('./assets/lula.png')\n",
    "resized_image = cv2.resize(image, (200, 50))\n",
    "\n",
    "plt.imshow(cv2.cvtColor(resized_image, cv2.COLOR_BGR2RGB))\n",
    "plt.axis('off')  # Remover eixos\n",
    "plt.show()"
   ]
  },
  {
   "cell_type": "markdown",
   "metadata": {},
   "source": [
    "### Equalização de histograma:\n"
   ]
  },
  {
   "cell_type": "code",
   "execution_count": null,
   "metadata": {},
   "outputs": [],
   "source": [
    "equalized_image = cv2.equalizeHist(gray_image)\n",
    "\n",
    "plt.imshow(equalized_image)\n",
    "plt.axis('off')  # Remover eixos\n",
    "plt.show()\n"
   ]
  },
  {
   "cell_type": "markdown",
   "metadata": {},
   "source": [
    "# Aplicação de Filtros"
   ]
  },
  {
   "cell_type": "markdown",
   "metadata": {},
   "source": [
    "### Desfoque:\n"
   ]
  },
  {
   "cell_type": "code",
   "execution_count": null,
   "metadata": {},
   "outputs": [],
   "source": [
    "image = cv2.imread('./assets/lula.png')\n",
    "blurred_image = cv2.GaussianBlur(image, (7, 7), 2)\n",
    "\n",
    "\n",
    "plt.imshow(cv2.cvtColor(blurred_image, cv2.COLOR_BGR2RGB))\n",
    "plt.axis('off')  # Remover eixos\n",
    "plt.show()\n"
   ]
  },
  {
   "cell_type": "markdown",
   "metadata": {},
   "source": [
    "### Detecção de bordas:"
   ]
  },
  {
   "cell_type": "code",
   "execution_count": null,
   "metadata": {},
   "outputs": [],
   "source": [
    "edges = cv2.Canny(image, 50, 150)\n",
    "\n",
    "\n",
    "plt.imshow(edges)\n",
    "plt.axis('off')  # Remover eixos\n",
    "plt.show()"
   ]
  },
  {
   "cell_type": "markdown",
   "metadata": {},
   "source": [
    "### Detecção de Características:\n"
   ]
  },
  {
   "cell_type": "code",
   "execution_count": null,
   "metadata": {},
   "outputs": [],
   "source": [
    "# Cantos com Harris\n",
    "\n",
    "image = cv2.imread('./assets/lula.png')\n",
    "\n",
    "# Converter a imagem de BGR para escala de cinza\n",
    "operatedImage = cv2.cvtColor(image, cv2.COLOR_BGR2GRAY)  # A detecção de cantos geralmente é feita em imagens em escala de cinza\n",
    "\n",
    "# Aplicar o detector de cantos de Harris na imagem em escala de cinza\n",
    "# O primeiro parâmetro é a imagem de entrada, o segundo é o tamanho da vizinhança (2x2 pixels), \n",
    "# o terceiro é o parâmetro de Sobel (5), e o quarto é o fator de sensibilidade (0.07)\n",
    "dest = cv2.cornerHarris(operatedImage, 2, 5, 0.07)\n",
    "\n",
    "# Dilatar a imagem resultante para aumentar a visibilidade dos cantos detectados\n",
    "# A dilatação faz com que os pontos detectados se tornem mais proeminentes\n",
    "dest = cv2.dilate(dest, None)\n",
    "\n",
    "# Marcar os cantos na imagem original com a cor vermelha (0, 0, 255)\n",
    "# Aqui, todos os pontos na imagem que têm um valor maior que 1% do valor máximo detectado são coloridos\n",
    "image[dest > 0.01 * dest.max()] = [0, 0, 255]\n",
    "plt.imshow(cv2.cvtColor(image, cv2.COLOR_BGR2RGB))\n",
    "plt.axis('off')  # Remover eixos\n",
    "plt.show()"
   ]
  },
  {
   "cell_type": "markdown",
   "metadata": {},
   "source": [
    "### Transformações Geométricas:\n"
   ]
  },
  {
   "cell_type": "code",
   "execution_count": null,
   "metadata": {},
   "outputs": [],
   "source": [
    "# Rotação\n",
    "image = cv2.imread('./assets/lula.png')\n",
    "rows, cols = image.shape[:2]\n",
    "M = cv2.getRotationMatrix2D((cols/2, rows/2), 180, 1)\n",
    "rotated_image = cv2.warpAffine(image, M, (cols, rows))\n",
    "\n",
    "\n",
    "plt.imshow(cv2.cvtColor(rotated_image, cv2.COLOR_BGR2RGB))\n",
    "plt.axis('off')  # Remover eixos\n",
    "plt.show()\n"
   ]
  },
  {
   "cell_type": "markdown",
   "metadata": {},
   "source": [
    "### Operações Morfológicas:\n",
    "*Erosão e Dilatação*"
   ]
  },
  {
   "cell_type": "markdown",
   "metadata": {},
   "source": [
    "1. *Erosão*\n"
   ]
  },
  {
   "cell_type": "code",
   "execution_count": null,
   "metadata": {},
   "outputs": [],
   "source": [
    "import numpy as np\n",
    "\n",
    "image = cv2.imread('./assets/lula.png')\n",
    "\n",
    "\n",
    "kernel = np.ones((5,5),np.uint8)\n",
    "eroded_image = cv2.erode(image, kernel, iterations = 1)\n",
    "\n",
    "\n",
    "plt.subplot(1, 2, 1)\n",
    "plt.title('Imagem Original')\n",
    "plt.imshow(cv2.cvtColor(image, cv2.COLOR_BGR2RGB))\n",
    "plt.axis('off')\n",
    "\n",
    "plt.subplot(1, 2, 2)\n",
    "plt.title('Imagem com Erosão')\n",
    "plt.imshow(cv2.cvtColor(eroded_image, cv2.COLOR_BGR2RGB))\n",
    "plt.axis('off')\n"
   ]
  },
  {
   "cell_type": "markdown",
   "metadata": {},
   "source": [
    "1. *Dilatação*\n"
   ]
  },
  {
   "cell_type": "code",
   "execution_count": null,
   "metadata": {},
   "outputs": [],
   "source": [
    "\n",
    "image = cv2.imread('./assets/lula.png')\n",
    "\n",
    "# Aplicar a dilatação\n",
    "dilated_image = cv2.dilate(image, kernel, iterations=1)\n",
    "\n",
    "plt.subplot(1, 2, 1)\n",
    "plt.title('Imagem Original')\n",
    "plt.imshow(cv2.cvtColor(image, cv2.COLOR_BGR2RGB))\n",
    "plt.axis('off')\n",
    "\n",
    "plt.subplot(1, 2, 2)\n",
    "plt.title('Imagem Dilatada')\n",
    "plt.imshow(cv2.cvtColor(dilated_image, cv2.COLOR_BGR2RGB))\n",
    "plt.axis('off')\n"
   ]
  },
  {
   "cell_type": "markdown",
   "metadata": {},
   "source": [
    "###  Algoritmo Watershed"
   ]
  },
  {
   "cell_type": "code",
   "execution_count": null,
   "metadata": {},
   "outputs": [],
   "source": [
    "import cv2\n",
    "import numpy as np\n",
    "\n",
    "# Carregar a imagem\n",
    "image = cv2.imread('assets/lula.png')\n",
    "gray = cv2.cvtColor(image, cv2.COLOR_BGR2GRAY)\n",
    "\n",
    "# Aplicar limiarização binária\n",
    "_, thresh = cv2.threshold(gray, 0, 255, cv2.THRESH_BINARY_INV + cv2.THRESH_OTSU)\n",
    "\n",
    "# Remover ruído\n",
    "kernel = np.ones((3, 3), np.uint8)\n",
    "opening = cv2.morphologyEx(thresh, cv2.MORPH_OPEN, kernel, iterations=2)\n",
    "\n",
    "# Definir o fundo da imagem\n",
    "sure_bg = cv2.dilate(opening, kernel, iterations=3)\n",
    "\n",
    "# Definir os objetos (foreground)\n",
    "dist_transform = cv2.distanceTransform(opening, cv2.DIST_L2, 5)\n",
    "_, sure_fg = cv2.threshold(dist_transform, 0.7 * dist_transform.max(), 255, 0)\n",
    "\n",
    "# Marcar regiões desconhecidas\n",
    "sure_fg = np.uint8(sure_fg)\n",
    "unknown = cv2.subtract(sure_bg, sure_fg)\n",
    "\n",
    "# Marcar os objetos conectados\n",
    "_, markers = cv2.connectedComponents(sure_fg)\n",
    "\n",
    "# Adicionar 1 a todas as marcas para distinguir o fundo\n",
    "markers = markers + 1\n",
    "\n",
    "# Marcar regiões desconhecidas como zero\n",
    "markers[unknown == 0] = 0\n",
    "\n",
    "# Aplicar o algoritmo Watershed\n",
    "markers = cv2.watershed(image, markers)\n",
    "image[markers == -1] = [255, 0, 0]  # Marcar bordas em vermelho\n",
    "\n",
    "# Exibir resultado\n",
    "plt.imshow(cv2.cvtColor(image, cv2.COLOR_BGR2RGB))\n",
    "plt.axis('off')\n",
    "plt.show()\n",
    "\n"
   ]
  }
 ],
 "metadata": {
  "kernelspec": {
   "display_name": "venv",
   "language": "python",
   "name": "python3"
  },
  "language_info": {
   "codemirror_mode": {
    "name": "ipython",
    "version": 3
   },
   "file_extension": ".py",
   "mimetype": "text/x-python",
   "name": "python",
   "nbconvert_exporter": "python",
   "pygments_lexer": "ipython3",
   "version": "3.12.3"
  }
 },
 "nbformat": 4,
 "nbformat_minor": 2
}
